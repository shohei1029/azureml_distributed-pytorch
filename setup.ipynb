{
 "cells": [
  {
   "cell_type": "markdown",
   "metadata": {},
   "source": [
    "# 事前準備\n",
    "## Conda 環境の構築  \n",
    "クライアントPCにでconda環境を作成します。予めMinicondaやAnacondaがインストールされている前提です。  \n",
    "※ファイルパスはリポジトリ直下を起点としています。"
   ]
  },
  {
   "cell_type": "markdown",
   "metadata": {},
   "source": [
    "yamlファイルに記載しているパッケージをベースに conda 環境 (notebook_env) を作成します。"
   ]
  },
  {
   "cell_type": "code",
   "execution_count": 3,
   "metadata": {
    "scrolled": false,
    "tags": [
     "outputPrepend"
    ]
   },
   "outputs": [
    {
     "output_type": "stream",
     "name": "stdout",
     "text": [
      "naconda3-2020.11/envs/onabuta_env_j/lib/python3.6/site-packages (from ipywidgets>=7.0.0->azureml-widgets->-r /home/shohei/projects/konabuta/azureml-hybrid/environments/condaenv.9912iptx.requirements.txt (line 5)) (5.1.2)\n",
      "Requirement already satisfied: ipykernel>=4.5.1 in /home/shohei/.anyenv/envs/pyenv/versions/anaconda3-2020.11/envs/onabuta_env_j/lib/python3.6/site-packages (from ipywidgets>=7.0.0->azureml-widgets->-r /home/shohei/projects/konabuta/azureml-hybrid/environments/condaenv.9912iptx.requirements.txt (line 5)) (5.3.4)\n",
      "Requirement already satisfied: ipython>=4.0.0 in /home/shohei/.anyenv/envs/pyenv/versions/anaconda3-2020.11/envs/onabuta_env_j/lib/python3.6/site-packages (from ipywidgets>=7.0.0->azureml-widgets->-r /home/shohei/projects/konabuta/azureml-hybrid/environments/condaenv.9912iptx.requirements.txt (line 5)) (7.16.1)\n",
      "Collecting widgetsnbextension~=3.5.0\n",
      "  Using cached widgetsnbextension-3.5.1-py2.py3-none-any.whl (2.2 MB)\n",
      "Requirement already satisfied: traitlets>=4.3.1 in /home/shohei/.anyenv/envs/pyenv/versions/anaconda3-2020.11/envs/onabuta_env_j/lib/python3.6/site-packages (from ipywidgets>=7.0.0->azureml-widgets->-r /home/shohei/projects/konabuta/azureml-hybrid/environments/condaenv.9912iptx.requirements.txt (line 5)) (4.3.3)\n",
      "Collecting jupyterlab-widgets>=1.0.0\n",
      "  Using cached jupyterlab_widgets-1.0.0-py3-none-any.whl (243 kB)\n",
      "Requirement already satisfied: jupyter-client in /home/shohei/.anyenv/envs/pyenv/versions/anaconda3-2020.11/envs/onabuta_env_j/lib/python3.6/site-packages (from ipykernel>=4.5.1->ipywidgets>=7.0.0->azureml-widgets->-r /home/shohei/projects/konabuta/azureml-hybrid/environments/condaenv.9912iptx.requirements.txt (line 5)) (6.1.7)\n",
      "Requirement already satisfied: tornado>=4.2 in /home/shohei/.anyenv/envs/pyenv/versions/anaconda3-2020.11/envs/onabuta_env_j/lib/python3.6/site-packages (from ipykernel>=4.5.1->ipywidgets>=7.0.0->azureml-widgets->-r /home/shohei/projects/konabuta/azureml-hybrid/environments/condaenv.9912iptx.requirements.txt (line 5)) (6.1)\n",
      "Requirement already satisfied: decorator in /home/shohei/.anyenv/envs/pyenv/versions/anaconda3-2020.11/envs/onabuta_env_j/lib/python3.6/site-packages (from ipython>=4.0.0->ipywidgets>=7.0.0->azureml-widgets->-r /home/shohei/projects/konabuta/azureml-hybrid/environments/condaenv.9912iptx.requirements.txt (line 5)) (4.4.2)\n",
      "Requirement already satisfied: backcall in /home/shohei/.anyenv/envs/pyenv/versions/anaconda3-2020.11/envs/onabuta_env_j/lib/python3.6/site-packages (from ipython>=4.0.0->ipywidgets>=7.0.0->azureml-widgets->-r /home/shohei/projects/konabuta/azureml-hybrid/environments/condaenv.9912iptx.requirements.txt (line 5)) (0.2.0)\n",
      "Requirement already satisfied: pygments in /home/shohei/.anyenv/envs/pyenv/versions/anaconda3-2020.11/envs/onabuta_env_j/lib/python3.6/site-packages (from ipython>=4.0.0->ipywidgets>=7.0.0->azureml-widgets->-r /home/shohei/projects/konabuta/azureml-hybrid/environments/condaenv.9912iptx.requirements.txt (line 5)) (2.8.1)\n",
      "Requirement already satisfied: pickleshare in /home/shohei/.anyenv/envs/pyenv/versions/anaconda3-2020.11/envs/onabuta_env_j/lib/python3.6/site-packages (from ipython>=4.0.0->ipywidgets>=7.0.0->azureml-widgets->-r /home/shohei/projects/konabuta/azureml-hybrid/environments/condaenv.9912iptx.requirements.txt (line 5)) (0.7.5)\n",
      "Requirement already satisfied: jedi>=0.10 in /home/shohei/.anyenv/envs/pyenv/versions/anaconda3-2020.11/envs/onabuta_env_j/lib/python3.6/site-packages (from ipython>=4.0.0->ipywidgets>=7.0.0->azureml-widgets->-r /home/shohei/projects/konabuta/azureml-hybrid/environments/condaenv.9912iptx.requirements.txt (line 5)) (0.17.2)\n",
      "Requirement already satisfied: prompt-toolkit!=3.0.0,!=3.0.1,<3.1.0,>=2.0.0 in /home/shohei/.anyenv/envs/pyenv/versions/anaconda3-2020.11/envs/onabuta_env_j/lib/python3.6/site-packages (from ipython>=4.0.0->ipywidgets>=7.0.0->azureml-widgets->-r /home/shohei/projects/konabuta/azureml-hybrid/environments/condaenv.9912iptx.requirements.txt (line 5)) (3.0.17)\n",
      "Requirement already satisfied: pexpect in /home/shohei/.anyenv/envs/pyenv/versions/anaconda3-2020.11/envs/onabuta_env_j/lib/python3.6/site-packages (from ipython>=4.0.0->ipywidgets>=7.0.0->azureml-widgets->-r /home/shohei/projects/konabuta/azureml-hybrid/environments/condaenv.9912iptx.requirements.txt (line 5)) (4.8.0)\n",
      "Requirement already satisfied: setuptools>=18.5 in /home/shohei/.anyenv/envs/pyenv/versions/anaconda3-2020.11/envs/onabuta_env_j/lib/python3.6/site-packages (from ipython>=4.0.0->ipywidgets>=7.0.0->azureml-widgets->-r /home/shohei/projects/konabuta/azureml-hybrid/environments/condaenv.9912iptx.requirements.txt (line 5)) (52.0.0.post20210125)\n",
      "Requirement already satisfied: parso<0.8.0,>=0.7.0 in /home/shohei/.anyenv/envs/pyenv/versions/anaconda3-2020.11/envs/onabuta_env_j/lib/python3.6/site-packages (from jedi>=0.10->ipython>=4.0.0->ipywidgets>=7.0.0->azureml-widgets->-r /home/shohei/projects/konabuta/azureml-hybrid/environments/condaenv.9912iptx.requirements.txt (line 5)) (0.7.0)\n",
      "Requirement already satisfied: ipython-genutils in /home/shohei/.anyenv/envs/pyenv/versions/anaconda3-2020.11/envs/onabuta_env_j/lib/python3.6/site-packages (from nbformat>=4.2.0->ipywidgets>=7.0.0->azureml-widgets->-r /home/shohei/projects/konabuta/azureml-hybrid/environments/condaenv.9912iptx.requirements.txt (line 5)) (0.2.0)\n",
      "Requirement already satisfied: jupyter-core in /home/shohei/.anyenv/envs/pyenv/versions/anaconda3-2020.11/envs/onabuta_env_j/lib/python3.6/site-packages (from nbformat>=4.2.0->ipywidgets>=7.0.0->azureml-widgets->-r /home/shohei/projects/konabuta/azureml-hybrid/environments/condaenv.9912iptx.requirements.txt (line 5)) (4.7.1)\n",
      "Requirement already satisfied: jsonschema!=2.5.0,>=2.4 in /home/shohei/.anyenv/envs/pyenv/versions/anaconda3-2020.11/envs/onabuta_env_j/lib/python3.6/site-packages (from nbformat>=4.2.0->ipywidgets>=7.0.0->azureml-widgets->-r /home/shohei/projects/konabuta/azureml-hybrid/environments/condaenv.9912iptx.requirements.txt (line 5)) (3.2.0)\n",
      "Requirement already satisfied: importlib-metadata in /home/shohei/.anyenv/envs/pyenv/versions/anaconda3-2020.11/envs/onabuta_env_j/lib/python3.6/site-packages (from jsonschema!=2.5.0,>=2.4->nbformat>=4.2.0->ipywidgets>=7.0.0->azureml-widgets->-r /home/shohei/projects/konabuta/azureml-hybrid/environments/condaenv.9912iptx.requirements.txt (line 5)) (3.7.3)\n",
      "Requirement already satisfied: attrs>=17.4.0 in /home/shohei/.anyenv/envs/pyenv/versions/anaconda3-2020.11/envs/onabuta_env_j/lib/python3.6/site-packages (from jsonschema!=2.5.0,>=2.4->nbformat>=4.2.0->ipywidgets>=7.0.0->azureml-widgets->-r /home/shohei/projects/konabuta/azureml-hybrid/environments/condaenv.9912iptx.requirements.txt (line 5)) (20.3.0)\n",
      "Requirement already satisfied: pyrsistent>=0.14.0 in /home/shohei/.anyenv/envs/pyenv/versions/anaconda3-2020.11/envs/onabuta_env_j/lib/python3.6/site-packages (from jsonschema!=2.5.0,>=2.4->nbformat>=4.2.0->ipywidgets>=7.0.0->azureml-widgets->-r /home/shohei/projects/konabuta/azureml-hybrid/environments/condaenv.9912iptx.requirements.txt (line 5)) (0.17.3)\n",
      "Requirement already satisfied: wcwidth in /home/shohei/.anyenv/envs/pyenv/versions/anaconda3-2020.11/envs/onabuta_env_j/lib/python3.6/site-packages (from prompt-toolkit!=3.0.0,!=3.0.1,<3.1.0,>=2.0.0->ipython>=4.0.0->ipywidgets>=7.0.0->azureml-widgets->-r /home/shohei/projects/konabuta/azureml-hybrid/environments/condaenv.9912iptx.requirements.txt (line 5)) (0.2.5)\n",
      "Requirement already satisfied: notebook>=4.4.1 in /home/shohei/.anyenv/envs/pyenv/versions/anaconda3-2020.11/envs/onabuta_env_j/lib/python3.6/site-packages (from widgetsnbextension~=3.5.0->ipywidgets>=7.0.0->azureml-widgets->-r /home/shohei/projects/konabuta/azureml-hybrid/environments/condaenv.9912iptx.requirements.txt (line 5)) (6.3.0)\n",
      "Requirement already satisfied: jinja2 in /home/shohei/.anyenv/envs/pyenv/versions/anaconda3-2020.11/envs/onabuta_env_j/lib/python3.6/site-packages (from notebook>=4.4.1->widgetsnbextension~=3.5.0->ipywidgets>=7.0.0->azureml-widgets->-r /home/shohei/projects/konabuta/azureml-hybrid/environments/condaenv.9912iptx.requirements.txt (line 5)) (2.11.3)\n",
      "Requirement already satisfied: nbconvert in /home/shohei/.anyenv/envs/pyenv/versions/anaconda3-2020.11/envs/onabuta_env_j/lib/python3.6/site-packages (from notebook>=4.4.1->widgetsnbextension~=3.5.0->ipywidgets>=7.0.0->azureml-widgets->-r /home/shohei/projects/konabuta/azureml-hybrid/environments/condaenv.9912iptx.requirements.txt (line 5)) (6.0.7)\n",
      "Requirement already satisfied: prometheus-client in /home/shohei/.anyenv/envs/pyenv/versions/anaconda3-2020.11/envs/onabuta_env_j/lib/python3.6/site-packages (from notebook>=4.4.1->widgetsnbextension~=3.5.0->ipywidgets>=7.0.0->azureml-widgets->-r /home/shohei/projects/konabuta/azureml-hybrid/environments/condaenv.9912iptx.requirements.txt (line 5)) (0.9.0)\n",
      "Requirement already satisfied: pyzmq>=17 in /home/shohei/.anyenv/envs/pyenv/versions/anaconda3-2020.11/envs/onabuta_env_j/lib/python3.6/site-packages (from notebook>=4.4.1->widgetsnbextension~=3.5.0->ipywidgets>=7.0.0->azureml-widgets->-r /home/shohei/projects/konabuta/azureml-hybrid/environments/condaenv.9912iptx.requirements.txt (line 5)) (20.0.0)\n",
      "Requirement already satisfied: terminado>=0.8.3 in /home/shohei/.anyenv/envs/pyenv/versions/anaconda3-2020.11/envs/onabuta_env_j/lib/python3.6/site-packages (from notebook>=4.4.1->widgetsnbextension~=3.5.0->ipywidgets>=7.0.0->azureml-widgets->-r /home/shohei/projects/konabuta/azureml-hybrid/environments/condaenv.9912iptx.requirements.txt (line 5)) (0.9.3)\n",
      "Requirement already satisfied: argon2-cffi in /home/shohei/.anyenv/envs/pyenv/versions/anaconda3-2020.11/envs/onabuta_env_j/lib/python3.6/site-packages (from notebook>=4.4.1->widgetsnbextension~=3.5.0->ipywidgets>=7.0.0->azureml-widgets->-r /home/shohei/projects/konabuta/azureml-hybrid/environments/condaenv.9912iptx.requirements.txt (line 5)) (20.1.0)\n",
      "Requirement already satisfied: Send2Trash>=1.5.0 in /home/shohei/.anyenv/envs/pyenv/versions/anaconda3-2020.11/envs/onabuta_env_j/lib/python3.6/site-packages (from notebook>=4.4.1->widgetsnbextension~=3.5.0->ipywidgets>=7.0.0->azureml-widgets->-r /home/shohei/projects/konabuta/azureml-hybrid/environments/condaenv.9912iptx.requirements.txt (line 5)) (1.5.0)\n",
      "Requirement already satisfied: ptyprocess in /home/shohei/.anyenv/envs/pyenv/versions/anaconda3-2020.11/envs/onabuta_env_j/lib/python3.6/site-packages (from terminado>=0.8.3->notebook>=4.4.1->widgetsnbextension~=3.5.0->ipywidgets>=7.0.0->azureml-widgets->-r /home/shohei/projects/konabuta/azureml-hybrid/environments/condaenv.9912iptx.requirements.txt (line 5)) (0.7.0)\n",
      "Collecting pillow>=6.2.0\n",
      "  Using cached Pillow-8.1.2-cp36-cp36m-manylinux1_x86_64.whl (2.2 MB)\n",
      "Collecting cycler>=0.10\n",
      "  Using cached cycler-0.10.0-py2.py3-none-any.whl (6.5 kB)\n",
      "Requirement already satisfied: pyparsing!=2.0.4,!=2.1.2,!=2.1.6,>=2.0.3 in /home/shohei/.anyenv/envs/pyenv/versions/anaconda3-2020.11/envs/onabuta_env_j/lib/python3.6/site-packages (from matplotlib->-r /home/shohei/projects/konabuta/azureml-hybrid/environments/condaenv.9912iptx.requirements.txt (line 3)) (2.4.7)\n",
      "Collecting kiwisolver>=1.0.1\n",
      "  Using cached kiwisolver-1.3.1-cp36-cp36m-manylinux1_x86_64.whl (1.1 MB)\n",
      "Requirement already satisfied: typing-extensions in /home/shohei/.anyenv/envs/pyenv/versions/anaconda3-2020.11/envs/onabuta_env_j/lib/python3.6/site-packages (from torch->-r /home/shohei/projects/konabuta/azureml-hybrid/environments/condaenv.9912iptx.requirements.txt (line 1)) (3.7.4.3)\n",
      "Collecting dataclasses\n",
      "  Using cached dataclasses-0.8-py3-none-any.whl (19 kB)\n",
      "Collecting backports.weakref\n",
      "  Using cached backports.weakref-1.0.post1-py2.py3-none-any.whl (5.2 kB)\n",
      "Collecting websocket-client>=0.32.0\n",
      "  Using cached websocket_client-0.58.0-py2.py3-none-any.whl (61 kB)\n",
      "Requirement already satisfied: zipp>=0.5 in /home/shohei/.anyenv/envs/pyenv/versions/anaconda3-2020.11/envs/onabuta_env_j/lib/python3.6/site-packages (from importlib-metadata->jsonschema!=2.5.0,>=2.4->nbformat>=4.2.0->ipywidgets>=7.0.0->azureml-widgets->-r /home/shohei/projects/konabuta/azureml-hybrid/environments/condaenv.9912iptx.requirements.txt (line 5)) (3.4.1)\n",
      "Requirement already satisfied: MarkupSafe>=0.23 in /home/shohei/.anyenv/envs/pyenv/versions/anaconda3-2020.11/envs/onabuta_env_j/lib/python3.6/site-packages (from jinja2->notebook>=4.4.1->widgetsnbextension~=3.5.0->ipywidgets>=7.0.0->azureml-widgets->-r /home/shohei/projects/konabuta/azureml-hybrid/environments/condaenv.9912iptx.requirements.txt (line 5)) (1.1.1)\n",
      "Requirement already satisfied: bleach in /home/shohei/.anyenv/envs/pyenv/versions/anaconda3-2020.11/envs/onabuta_env_j/lib/python3.6/site-packages (from nbconvert->notebook>=4.4.1->widgetsnbextension~=3.5.0->ipywidgets>=7.0.0->azureml-widgets->-r /home/shohei/projects/konabuta/azureml-hybrid/environments/condaenv.9912iptx.requirements.txt (line 5)) (3.3.0)\n",
      "Requirement already satisfied: defusedxml in /home/shohei/.anyenv/envs/pyenv/versions/anaconda3-2020.11/envs/onabuta_env_j/lib/python3.6/site-packages (from nbconvert->notebook>=4.4.1->widgetsnbextension~=3.5.0->ipywidgets>=7.0.0->azureml-widgets->-r /home/shohei/projects/konabuta/azureml-hybrid/environments/condaenv.9912iptx.requirements.txt (line 5)) (0.7.1)\n",
      "Requirement already satisfied: entrypoints>=0.2.2 in /home/shohei/.anyenv/envs/pyenv/versions/anaconda3-2020.11/envs/onabuta_env_j/lib/python3.6/site-packages (from nbconvert->notebook>=4.4.1->widgetsnbextension~=3.5.0->ipywidgets>=7.0.0->azureml-widgets->-r /home/shohei/projects/konabuta/azureml-hybrid/environments/condaenv.9912iptx.requirements.txt (line 5)) (0.3)\n",
      "Requirement already satisfied: jupyterlab-pygments in /home/shohei/.anyenv/envs/pyenv/versions/anaconda3-2020.11/envs/onabuta_env_j/lib/python3.6/site-packages (from nbconvert->notebook>=4.4.1->widgetsnbextension~=3.5.0->ipywidgets>=7.0.0->azureml-widgets->-r /home/shohei/projects/konabuta/azureml-hybrid/environments/condaenv.9912iptx.requirements.txt (line 5)) (0.1.2)\n",
      "Requirement already satisfied: mistune<2,>=0.8.1 in /home/shohei/.anyenv/envs/pyenv/versions/anaconda3-2020.11/envs/onabuta_env_j/lib/python3.6/site-packages (from nbconvert->notebook>=4.4.1->widgetsnbextension~=3.5.0->ipywidgets>=7.0.0->azureml-widgets->-r /home/shohei/projects/konabuta/azureml-hybrid/environments/condaenv.9912iptx.requirements.txt (line 5)) (0.8.4)\n",
      "Requirement already satisfied: testpath in /home/shohei/.anyenv/envs/pyenv/versions/anaconda3-2020.11/envs/onabuta_env_j/lib/python3.6/site-packages (from nbconvert->notebook>=4.4.1->widgetsnbextension~=3.5.0->ipywidgets>=7.0.0->azureml-widgets->-r /home/shohei/projects/konabuta/azureml-hybrid/environments/condaenv.9912iptx.requirements.txt (line 5)) (0.4.4)\n",
      "Requirement already satisfied: nbclient<0.6.0,>=0.5.0 in /home/shohei/.anyenv/envs/pyenv/versions/anaconda3-2020.11/envs/onabuta_env_j/lib/python3.6/site-packages (from nbconvert->notebook>=4.4.1->widgetsnbextension~=3.5.0->ipywidgets>=7.0.0->azureml-widgets->-r /home/shohei/projects/konabuta/azureml-hybrid/environments/condaenv.9912iptx.requirements.txt (line 5)) (0.5.3)\n",
      "Requirement already satisfied: pandocfilters>=1.4.1 in /home/shohei/.anyenv/envs/pyenv/versions/anaconda3-2020.11/envs/onabuta_env_j/lib/python3.6/site-packages (from nbconvert->notebook>=4.4.1->widgetsnbextension~=3.5.0->ipywidgets>=7.0.0->azureml-widgets->-r /home/shohei/projects/konabuta/azureml-hybrid/environments/condaenv.9912iptx.requirements.txt (line 5)) (1.4.3)\n",
      "Requirement already satisfied: async-generator in /home/shohei/.anyenv/envs/pyenv/versions/anaconda3-2020.11/envs/onabuta_env_j/lib/python3.6/site-packages (from nbclient<0.6.0,>=0.5.0->nbconvert->notebook>=4.4.1->widgetsnbextension~=3.5.0->ipywidgets>=7.0.0->azureml-widgets->-r /home/shohei/projects/konabuta/azureml-hybrid/environments/condaenv.9912iptx.requirements.txt (line 5)) (1.10)\n",
      "Requirement already satisfied: nest-asyncio in /home/shohei/.anyenv/envs/pyenv/versions/anaconda3-2020.11/envs/onabuta_env_j/lib/python3.6/site-packages (from nbclient<0.6.0,>=0.5.0->nbconvert->notebook>=4.4.1->widgetsnbextension~=3.5.0->ipywidgets>=7.0.0->azureml-widgets->-r /home/shohei/projects/konabuta/azureml-hybrid/environments/condaenv.9912iptx.requirements.txt (line 5)) (1.5.1)\n",
      "Requirement already satisfied: packaging in /home/shohei/.anyenv/envs/pyenv/versions/anaconda3-2020.11/envs/onabuta_env_j/lib/python3.6/site-packages (from bleach->nbconvert->notebook>=4.4.1->widgetsnbextension~=3.5.0->ipywidgets>=7.0.0->azureml-widgets->-r /home/shohei/projects/konabuta/azureml-hybrid/environments/condaenv.9912iptx.requirements.txt (line 5)) (20.9)\n",
      "Requirement already satisfied: webencodings in /home/shohei/.anyenv/envs/pyenv/versions/anaconda3-2020.11/envs/onabuta_env_j/lib/python3.6/site-packages (from bleach->nbconvert->notebook>=4.4.1->widgetsnbextension~=3.5.0->ipywidgets>=7.0.0->azureml-widgets->-r /home/shohei/projects/konabuta/azureml-hybrid/environments/condaenv.9912iptx.requirements.txt (line 5)) (0.5.1)\n",
      "Collecting pyasn1>=0.1.1\n",
      "  Using cached pyasn1-0.4.8-py2.py3-none-any.whl (77 kB)\n",
      "Collecting jeepney>=0.6\n",
      "  Using cached jeepney-0.6.0-py3-none-any.whl (45 kB)\n",
      "Installing collected packages: urllib3, idna, chardet, requests, PyJWT, oauthlib, cryptography, requests-oauthlib, isodate, portalocker, msrest, msal, adal, websocket-client, ruamel.yaml.clib, pyopenssl, pyasn1, msrestazure, msal-extensions, jeepney, distro, backports.weakref, azure-core, azure-common, SecretStorage, ruamel.yaml, pytz, pathspec, numpy, ndg-httpsclient, jsonpickle, jmespath, dotnetcore2, docker, contextlib2, cloudpickle, backports.tempfile, azureml-dataprep-rslex, azureml-dataprep-native, azure-mgmt-storage, azure-mgmt-resource, azure-mgmt-keyvault, azure-mgmt-containerregistry, azure-mgmt-authorization, azure-identity, azure-graphrbac, pyarrow, azureml-dataprep, azureml-core, applicationinsights, azureml-telemetry, azureml-dataset-runtime, azureml-train-restclients-hyperdrive, azureml-automl-core, azureml-train-core, azureml-train-automl-client, azureml-pipeline-core, widgetsnbextension, jupyterlab-widgets, fusepy, dataclasses, azureml-pipeline-steps, torch, pillow, kiwisolver, ipywidgets, cycler, azureml-train, azureml-pipeline, azure-storage-blob, torchvision, matplotlib, azureml-widgets, azureml-sdk\n",
      "Successfully installed PyJWT-2.0.1 SecretStorage-3.3.1 adal-1.2.6 applicationinsights-0.11.9 azure-common-1.1.27 azure-core-1.12.0 azure-graphrbac-0.61.1 azure-identity-1.4.1 azure-mgmt-authorization-0.61.0 azure-mgmt-containerregistry-2.8.0 azure-mgmt-keyvault-2.2.0 azure-mgmt-resource-12.1.0 azure-mgmt-storage-11.2.0 azure-storage-blob-12.8.0 azureml-automl-core-1.25.0 azureml-core-1.25.0 azureml-dataprep-2.11.2 azureml-dataprep-native-30.0.0 azureml-dataprep-rslex-1.9.1 azureml-dataset-runtime-1.25.0 azureml-pipeline-1.25.0 azureml-pipeline-core-1.25.0 azureml-pipeline-steps-1.25.0 azureml-sdk-1.25.0 azureml-telemetry-1.25.0 azureml-train-1.25.0 azureml-train-automl-client-1.25.0 azureml-train-core-1.25.0 azureml-train-restclients-hyperdrive-1.25.0 azureml-widgets-1.25.0 backports.tempfile-1.0 backports.weakref-1.0.post1 chardet-4.0.0 cloudpickle-1.6.0 contextlib2-0.6.0.post1 cryptography-3.4.7 cycler-0.10.0 dataclasses-0.8 distro-1.5.0 docker-4.4.4 dotnetcore2-2.1.20 fusepy-3.0.1 idna-2.10 ipywidgets-7.6.3 isodate-0.6.0 jeepney-0.6.0 jmespath-0.10.0 jsonpickle-2.0.0 jupyterlab-widgets-1.0.0 kiwisolver-1.3.1 matplotlib-3.3.4 msal-1.10.0 msal-extensions-0.2.2 msrest-0.6.21 msrestazure-0.6.4 ndg-httpsclient-0.5.1 numpy-1.19.5 oauthlib-3.1.0 pathspec-0.8.1 pillow-8.1.2 portalocker-1.7.1 pyarrow-1.0.1 pyasn1-0.4.8 pyopenssl-20.0.1 pytz-2021.1 requests-2.25.1 requests-oauthlib-1.3.0 ruamel.yaml-0.17.0 ruamel.yaml.clib-0.2.2 torch-1.8.1 torchvision-0.9.1 urllib3-1.26.4 websocket-client-0.58.0 widgetsnbextension-3.5.1\n",
      "\n",
      "done\n",
      "#\n",
      "# To activate this environment, use\n",
      "#\n",
      "#     $ conda activate onabuta_env_j\n",
      "#\n",
      "# To deactivate an active environment, use\n",
      "#\n",
      "#     $ conda deactivate\n",
      "\n"
     ]
    }
   ],
   "source": [
    "!conda env create -n \"notebook_env\" -f ./examples/distributed-pytorch-with-distributeddataparallel.yml"
   ]
  },
  {
   "cell_type": "code",
   "execution_count": 2,
   "metadata": {},
   "outputs": [
    {
     "output_type": "stream",
     "name": "stdout",
     "text": [
      "# conda environments:\n#\nbase                  *  /home/shohei/.anyenv/envs/pyenv/versions/anaconda3-2020.11\nazureml_env              /home/shohei/.anyenv/envs/pyenv/versions/anaconda3-2020.11/envs/azureml_env\n\n"
     ]
    }
   ],
   "source": [
    "#確認\n",
    "!conda info -e"
   ]
  },
  {
   "cell_type": "code",
   "execution_count": 11,
   "metadata": {},
   "outputs": [
    {
     "output_type": "stream",
     "name": "stdout",
     "text": [
      "\n",
      "Remove all packages in environment /home/shohei/.anyenv/envs/pyenv/versions/anaconda3-2020.11/envs/onabuta_env_j:\n",
      "\n",
      "\n",
      "## Package Plan ##\n",
      "\n",
      "  environment location: /home/shohei/.anyenv/envs/pyenv/versions/anaconda3-2020.11/envs/onabuta_env_j\n",
      "\n",
      "\n",
      "The following packages will be REMOVED:\n",
      "\n",
      "  _libgcc_mutex-0.1-main\n",
      "  argon2-cffi-20.1.0-py36h27cfd23_1\n",
      "  async_generator-1.10-py36h28b3542_0\n",
      "  attrs-20.3.0-pyhd3eb1b0_0\n",
      "  backcall-0.2.0-pyhd3eb1b0_0\n",
      "  bleach-3.3.0-pyhd3eb1b0_0\n",
      "  ca-certificates-2021.1.19-h06a4308_1\n",
      "  certifi-2020.12.5-py36h06a4308_0\n",
      "  cffi-1.14.5-py36h261ae71_0\n",
      "  decorator-4.4.2-pyhd3eb1b0_0\n",
      "  defusedxml-0.7.1-pyhd3eb1b0_0\n",
      "  entrypoints-0.3-py36_0\n",
      "  importlib-metadata-3.7.3-py36h06a4308_1\n",
      "  importlib_metadata-3.7.3-hd3eb1b0_1\n",
      "  ipykernel-5.3.4-py36h5ca1d4c_0\n",
      "  ipython-7.16.1-py36h5ca1d4c_0\n",
      "  ipython_genutils-0.2.0-pyhd3eb1b0_1\n",
      "  jedi-0.17.2-py36h06a4308_1\n",
      "  jinja2-2.11.3-pyhd3eb1b0_0\n",
      "  jsonschema-3.2.0-py_2\n",
      "  jupyter_client-6.1.7-py_0\n",
      "  jupyter_core-4.7.1-py36h06a4308_0\n",
      "  jupyterlab_pygments-0.1.2-py_0\n",
      "  ld_impl_linux-64-2.33.1-h53a641e_7\n",
      "  libffi-3.3-he6710b0_2\n",
      "  libgcc-ng-9.1.0-hdf63c60_0\n",
      "  libsodium-1.0.18-h7b6447c_0\n",
      "  libstdcxx-ng-9.1.0-hdf63c60_0\n",
      "  markupsafe-1.1.1-py36h7b6447c_0\n",
      "  mistune-0.8.4-py36h7b6447c_0\n",
      "  nbclient-0.5.3-pyhd3eb1b0_0\n",
      "  nbconvert-6.0.7-py36_0\n",
      "  nbformat-5.1.2-pyhd3eb1b0_1\n",
      "  ncurses-6.2-he6710b0_1\n",
      "  nest-asyncio-1.5.1-pyhd3eb1b0_0\n",
      "  notebook-6.3.0-py36h06a4308_0\n",
      "  openssl-1.1.1k-h27cfd23_0\n",
      "  packaging-20.9-pyhd3eb1b0_0\n",
      "  pandoc-2.12-h06a4308_0\n",
      "  pandocfilters-1.4.3-py36h06a4308_1\n",
      "  parso-0.7.0-py_0\n",
      "  pexpect-4.8.0-pyhd3eb1b0_3\n",
      "  pickleshare-0.7.5-pyhd3eb1b0_1003\n",
      "  pip-21.0.1-py36h06a4308_0\n",
      "  prometheus_client-0.9.0-pyhd3eb1b0_0\n",
      "  prompt-toolkit-3.0.17-pyh06a4308_0\n",
      "  ptyprocess-0.7.0-pyhd3eb1b0_2\n",
      "  pycparser-2.20-py_2\n",
      "  pygments-2.8.1-pyhd3eb1b0_0\n",
      "  pyparsing-2.4.7-pyhd3eb1b0_0\n",
      "  pyrsistent-0.17.3-py36h7b6447c_0\n",
      "  python-3.6.13-hdb3f193_0\n",
      "  python-dateutil-2.8.1-pyhd3eb1b0_0\n",
      "  pyzmq-20.0.0-py36h2531618_1\n",
      "  readline-8.1-h27cfd23_0\n",
      "  send2trash-1.5.0-pyhd3eb1b0_1\n",
      "  setuptools-52.0.0-py36h06a4308_0\n",
      "  six-1.15.0-py36h06a4308_0\n",
      "  sqlite-3.35.2-hdfb4753_0\n",
      "  terminado-0.9.3-py36h06a4308_0\n",
      "  testpath-0.4.4-pyhd3eb1b0_0\n",
      "  tk-8.6.10-hbc83047_0\n",
      "  tornado-6.1-py36h27cfd23_0\n",
      "  traitlets-4.3.3-py36_0\n",
      "  typing_extensions-3.7.4.3-pyha847dfd_0\n",
      "  wcwidth-0.2.5-py_0\n",
      "  webencodings-0.5.1-py36_1\n",
      "  wheel-0.36.2-pyhd3eb1b0_0\n",
      "  xz-5.2.5-h7b6447c_0\n",
      "  zeromq-4.3.4-h2531618_0\n",
      "  zipp-3.4.1-pyhd3eb1b0_0\n",
      "  zlib-1.2.11-h7b6447c_3\n",
      "\n",
      "\n",
      "Preparing transaction: done\n",
      "Verifying transaction: done\n",
      "Executing transaction: done\n"
     ]
    }
   ],
   "source": [
    "# #環境削除用\n",
    "# !conda remove -n \"\" --all -y"
   ]
  },
  {
   "cell_type": "code",
   "execution_count": null,
   "metadata": {},
   "outputs": [],
   "source": [
    "#Jupyter Notebook連携\n",
    "# ipython kernel install --user --name <myenv> --display-name \"Python (myenv)\""
   ]
  },
  {
   "source": [
    "## Azure ML ワークスペース情報の取得  \n",
    "Azure ML Studio上から「構成ファイルをダウンロード」し、`.config`ファイルを`example`フォルダ下に配置します。"
   ],
   "cell_type": "markdown",
   "metadata": {}
  },
  {
   "source": [
    "## VSCode に Azure Machine Learning 拡張機能をインストール\n",
    "\n",
    "手順：[Visual Studio Code の Azure Machine Learning (プレビュー) 拡張機能を設定する](https://docs.microsoft.com/ja-jp/azure/machine-learning/tutorial-setup-vscode-extension)"
   ],
   "cell_type": "markdown",
   "metadata": {}
  },
  {
   "source": [],
   "cell_type": "markdown",
   "metadata": {}
  }
 ],
 "metadata": {
  "kernelspec": {
   "display_name": "Python 3",
   "language": "python",
   "name": "python3"
  },
  "language_info": {
   "codemirror_mode": {
    "name": "ipython",
    "version": 3
   },
   "file_extension": ".py",
   "mimetype": "text/x-python",
   "name": "python",
   "nbconvert_exporter": "python",
   "pygments_lexer": "ipython3",
   "version": "3.8.5"
  }
 },
 "nbformat": 4,
 "nbformat_minor": 2
}